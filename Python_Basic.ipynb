{
  "nbformat": 4,
  "nbformat_minor": 0,
  "metadata": {
    "colab": {
      "provenance": []
    },
    "kernelspec": {
      "name": "python3",
      "display_name": "Python 3"
    },
    "language_info": {
      "name": "python"
    }
  },
  "cells": [
    {
      "cell_type": "code",
      "execution_count": null,
      "metadata": {
        "id": "f27l-isBLjJS"
      },
      "outputs": [],
      "source": [
        " 1.What is Python, and why is it popular?\n",
        " Ans- Python is a computer programming language that is easy to read and write.It helps people create websites, analyze data, build apps and even automate tasks.\n",
        " It is popular because\n",
        " * It is easy to understand.\n",
        " * Works on Any Computer.\n",
        " * Many people use it, so help is always available.\n",
        " * It has many libraries that save time.\n"
      ]
    },
    {
      "cell_type": "markdown",
      "source": [
        "2.  What is an interpreter in Python?\n",
        "Ans- An interpreter in Python is a program that reads and executes Python code line by line, instead of compiling it all at once like other languages."
      ],
      "metadata": {
        "id": "nHgEhr6mL3nB"
      }
    },
    {
      "cell_type": "markdown",
      "source": [
        "3.  What are pre-defined keywords in Python?\n",
        "Ans - * def\n",
        "      *return\n",
        "      *lambda\n",
        "      *if, else."
      ],
      "metadata": {
        "id": "iqsSZLseOCJc"
      }
    },
    {
      "cell_type": "markdown",
      "source": [
        "4.  Can keywords be used as variable names ?\n",
        "Ans -  No, Python keywords cannot be used as variable names.\n"
      ],
      "metadata": {
        "id": "56HPMP_yLp_x"
      }
    },
    {
      "cell_type": "markdown",
      "source": [
        "5.  What is mutability in Python\n",
        "Ans -Mutability in Python refers to whether an object’s value can be changed after it is created.\n",
        "\n"
      ],
      "metadata": {
        "id": "USC659a8PQaa"
      }
    },
    {
      "cell_type": "markdown",
      "source": [
        "6.  Why are lists mutable, but tuples are immutable?\n",
        "Ans- * Lists can be changed after creation (mutable).\n",
        "     *Tuples cannot be changed once created (immutable).\n",
        "\n"
      ],
      "metadata": {
        "id": "F4zWz4BvPdPx"
      }
    },
    {
      "cell_type": "markdown",
      "source": [
        "7.  What is the difference between “==” and “is” operators in Python?\n",
        "Ans- * The == operator checks if two objects have the same value.\n",
        "Whhere as\n",
        "     *The is operator checks if two objects refer to the same memory location .\n",
        "\n",
        "\n"
      ],
      "metadata": {
        "id": "nD9VZtQFP_9k"
      }
    },
    {
      "cell_type": "markdown",
      "source": [
        "8.  What are logical operators in Python?\n",
        "Ans- Logical operators in Python are used to combine multiple conditions and return True or False based on their evaluation."
      ],
      "metadata": {
        "id": "rIxqgcXrQuOP"
      }
    },
    {
      "cell_type": "markdown",
      "source": [
        "9.  What is type casting in Python?\n",
        "Ans- Type casting  is the process of converting one data type into another in Python."
      ],
      "metadata": {
        "id": "_g0AqW8gRD_5"
      }
    },
    {
      "cell_type": "markdown",
      "source": [
        "10.  What is the difference between implicit and explicit type casting?\n",
        "Ans- Implicit Type Casting\n",
        "     *Performed automatically by Python when there is no risk of data loss.\n",
        "     *Happens when a smaller data type is converted into a larger data type\n",
        "     Explicit Type Casting\n",
        "     *Performed manually by the programmer using built-in functions like int(), float(), str(), etc.\n",
        "     *Used when Python does not convert types automatically\n",
        "\n"
      ],
      "metadata": {
        "id": "0fgqGyS_RTxW"
      }
    },
    {
      "cell_type": "markdown",
      "source": [
        "11.  What is the purpose of conditional statements in Python\n",
        "Ans- Conditional statements in Python allow a program to make decisions based on certain conditions. They help in controlling the flow of execution by executing different code blocks depending on whether a condition is True or False.\n",
        "*It helps in Decision-Making.\n",
        "*It helps in Error Handling & Validation."
      ],
      "metadata": {
        "id": "sDLFkEEDSSRz"
      }
    },
    {
      "cell_type": "markdown",
      "source": [
        "12.  How does the elif statement work?\n",
        "Ans- The elif (else if) statement in Python is used to check multiple conditions sequentially. It allows a program to execute different blocks of code based on different conditions.\n",
        "\n"
      ],
      "metadata": {
        "id": "xAE6VZzwS_bn"
      }
    },
    {
      "cell_type": "markdown",
      "source": [
        "13.  What is the difference between for and while loops?\n",
        "Ans- * for Loop (Definite Loop)\n",
        "Used when the number of iterations is known beforehand.\n",
        "Iterates over a sequence (like a list, tuple, string, or range).\n",
        "Stops automatically after the sequence is exhausted.\n",
        "*  while Loop (Indefinite Loop)\n",
        "Used when the number of iterations is unknown beforehand.\n",
        "Runs as long as a condition remains True.\n",
        "Needs manual control to avoid infinite loops."
      ],
      "metadata": {
        "id": "qzaM6JbuTOUd"
      }
    },
    {
      "cell_type": "markdown",
      "source": [
        "14.  Describe a scenario where a while loop is more suitable than a for loop.\n",
        "Ans- A while loop is more suitable when the number of iterations is unknown beforehand and depends on a condition rather than a fixed sequence.\n",
        "\n",
        "\n"
      ],
      "metadata": {
        "id": "UrPWlV6UTqf_"
      }
    },
    {
      "cell_type": "markdown",
      "source": [
        " Practical Questions\n",
        ""
      ],
      "metadata": {
        "id": "FQ3r_AyVUMpe"
      }
    },
    {
      "cell_type": "markdown",
      "source": [
        "1.  Write a Python program to print \"Hello, World!\n"
      ],
      "metadata": {
        "id": "X5F91kLPUVL0"
      }
    },
    {
      "cell_type": "code",
      "source": [
        "print(\"Hello, World!\")\n"
      ],
      "metadata": {
        "id": "-B6IAkjHUaNc"
      },
      "execution_count": null,
      "outputs": []
    },
    {
      "cell_type": "markdown",
      "source": [
        "2.  Write a Python program that displays your name and age\n"
      ],
      "metadata": {
        "id": "WcJiYVOLUxfh"
      }
    },
    {
      "cell_type": "code",
      "source": [
        "# Get user input\n",
        "name = input(\"Enter your name: \")\n",
        "age = input(\"Enter your age: \")\n",
        "\n",
        "print(\"My name is\", name)\n",
        "print(\"I am\", age, \"years old\")\n"
      ],
      "metadata": {
        "id": "YiigFRbbU6fj"
      },
      "execution_count": null,
      "outputs": []
    },
    {
      "cell_type": "markdown",
      "source": [
        "3.  Write code to print all the pre-defined keywords in Python using the keyword library\n"
      ],
      "metadata": {
        "id": "re09pdvEVTwu"
      }
    },
    {
      "cell_type": "code",
      "source": [
        "import keyword\n",
        "\n",
        "keywords_list = keyword.kwlist\n",
        "\n",
        "print(\"Python Keywords:\")\n",
        "for kw in keywords_list:\n",
        "    print(kw)\n"
      ],
      "metadata": {
        "id": "bDSLDIalVYFA"
      },
      "execution_count": null,
      "outputs": []
    },
    {
      "cell_type": "markdown",
      "source": [
        "4.  Write a program that checks if a given word is a Python keyword\n"
      ],
      "metadata": {
        "id": "Edu9WND3VrlW"
      }
    },
    {
      "cell_type": "code",
      "source": [
        "import keyword\n",
        "\n",
        "word = input(\"Enter a word: \")\n",
        "\n",
        "if keyword.iskeyword(word):\n",
        "    print(f\"'{word}' is a Python keyword.\")\n",
        "else:\n",
        "    print(f\"'{word}' is NOT a Python keyword.\")\n"
      ],
      "metadata": {
        "id": "r9O7ewnRVvXH"
      },
      "execution_count": null,
      "outputs": []
    },
    {
      "cell_type": "markdown",
      "source": [
        "5. Create a list and tuple in Python, and demonstrate how attempting to change an element works differently for each."
      ],
      "metadata": {
        "id": "MLiClmURV4sf"
      }
    },
    {
      "cell_type": "code",
      "source": [
        "my_list = [10, 20, 30]\n",
        "print(\"Original List:\", my_list)\n",
        "\n",
        "my_list[1] = 50\n",
        "print(\"Modified List:\", my_list)\n",
        "\n",
        "my_tuple = (10, 20, 30)\n",
        "print(\"\\nOriginal Tuple:\", my_tuple)\n"
      ],
      "metadata": {
        "id": "-VA1QbJgWBi4"
      },
      "execution_count": null,
      "outputs": []
    },
    {
      "cell_type": "markdown",
      "source": [
        "6.  Write a function to demonstrate the behavior of mutable and immutable arguments\n"
      ],
      "metadata": {
        "id": "QOT-zRBOWYnb"
      }
    },
    {
      "cell_type": "code",
      "source": [
        "def modify_values(num, my_list):\n",
        "    num += 10\n",
        "    my_list.append(4)\n",
        "\n",
        "    print(\"Inside function - num:\", num)\n",
        "    print(\"Inside function - my_list:\", my_list)\n",
        "\n",
        "x = 5\n",
        "y = [1, 2, 3]\n",
        "\n",
        "print(\"Before function call - x:\", x)\n",
        "print(\"Before function call - y:\", y)\n",
        "\n",
        "modify_values(x, y)\n",
        "\n",
        "print(\"After function call - x:\", x)\n",
        "print(\"After function call - y:\", y)\n"
      ],
      "metadata": {
        "id": "o4INmspfWbzV"
      },
      "execution_count": null,
      "outputs": []
    },
    {
      "cell_type": "markdown",
      "source": [
        "7.  Write a function to demonstrate the behavior of mutable and immutable arguments\n"
      ],
      "metadata": {
        "id": "Al9d1nTiWr61"
      }
    },
    {
      "cell_type": "code",
      "source": [
        "def modify_values(num, my_list):\n",
        "    num += 10\n",
        "    my_list.append(4)\n",
        "\n",
        "    print(\"Inside function - num:\", num)\n",
        "    print(\"Inside function - my_list:\", my_list)\n",
        "\n",
        "x = 5\n",
        "y = [1, 2, 3]\n",
        "\n",
        "print(\"Before function call - x:\", x)\n",
        "print(\"Before function call - y:\", y)\n",
        "\n",
        "modify_values(x, y)\n",
        "\n",
        "print(\"After function call - x:\", x)\n",
        "print(\"After function call - y:\", y)\n"
      ],
      "metadata": {
        "id": "-Lazn90KWve9"
      },
      "execution_count": null,
      "outputs": []
    },
    {
      "cell_type": "markdown",
      "source": [
        "8.  Write a program to demonstrate the use of logical operators\n"
      ],
      "metadata": {
        "id": "TLjmeDb2XB2N"
      }
    },
    {
      "cell_type": "code",
      "source": [
        "\n",
        "x = int(input(\"Enter a number: \"))\n",
        "y = int(input(\"Enter another number: \"))\n",
        "\n",
        "if x > 0 and y > 0:\n",
        "    print(\"Both numbers are positive.\")\n",
        "\n",
        "if x > 0 or y > 0:\n",
        "    print(\"At least one number is positive.\")\n",
        "\n",
        "if not (x < 0 and y < 0):\n",
        "    print(\"Both numbers are NOT negative.\")\n",
        "else:\n",
        "    print(\"Both numbers are negative.\")\n"
      ],
      "metadata": {
        "id": "ik5Kv0LTXGB6"
      },
      "execution_count": null,
      "outputs": []
    },
    {
      "cell_type": "markdown",
      "source": [
        "9.  Write a Python program to convert user input from string to integer, float, and boolean types\n"
      ],
      "metadata": {
        "id": "LCT4XUgtXPmp"
      }
    },
    {
      "cell_type": "code",
      "source": [
        "user_input = input(\"Enter a value: \")\n",
        "\n",
        "int_value = int(user_input)\n",
        "float_value = float(user_input)\n",
        "bool_value = bool(user_input)\n",
        "\n",
        "print(\"Integer value:\", int_value)\n",
        "print(\"Float value:\", float_value)\n",
        "print(\"Boolean value:\", bool_value)\n"
      ],
      "metadata": {
        "id": "SJ6w08MjXTab"
      },
      "execution_count": null,
      "outputs": []
    },
    {
      "cell_type": "markdown",
      "source": [
        "10.  Write code to demonstrate type casting with list elements\n"
      ],
      "metadata": {
        "id": "V9MJuumCXfpN"
      }
    },
    {
      "cell_type": "code",
      "source": [
        "string_list = [\"10\", \"20.5\", \"0\", \"30\", \"True\", \"False\"]\n",
        "\n",
        "int_list = [int(float(item)) if item.replace('.', '', 1).isdigit() else None for item in string_list]\n",
        "\n",
        "float_list = [float(item) if item.replace('.', '', 1).isdigit() else None for item in string_list]\n",
        "\n",
        "bool_list = [bool(item) for item in string_list]\n",
        "\n",
        "print(\"Original list:\", string_list)\n",
        "print(\"Converted to integers:\", int_list)\n",
        "print(\"Converted to floats:\", float_list)\n",
        "print(\"Converted to booleans:\", bool_list)\n"
      ],
      "metadata": {
        "id": "eIK9EiBeXjn5"
      },
      "execution_count": null,
      "outputs": []
    },
    {
      "cell_type": "markdown",
      "source": [
        "11.  Write a program that checks if a number is positive, negative, or zero\n"
      ],
      "metadata": {
        "id": "DzBuU3q1XsnU"
      }
    },
    {
      "cell_type": "code",
      "source": [
        "num = float(input(\"Enter a number: \"))\n",
        "\n",
        "if num > 0:\n",
        "    print(\"The number is positive.\")\n",
        "elif num < 0:\n",
        "    print(\"The number is negative.\")\n",
        "else:\n",
        "    print(\"The number is zero.\")\n"
      ],
      "metadata": {
        "id": "qCXaQELMXwsG"
      },
      "execution_count": null,
      "outputs": []
    },
    {
      "cell_type": "markdown",
      "source": [
        "12.  Write a for loop to print numbers from 1 to 10\n"
      ],
      "metadata": {
        "id": "niKoJGKIX8UE"
      }
    },
    {
      "cell_type": "code",
      "source": [
        "for num in range(1, 11):\n",
        "    print(num)\n"
      ],
      "metadata": {
        "id": "z9knKqKPYAHU"
      },
      "execution_count": null,
      "outputs": []
    },
    {
      "cell_type": "markdown",
      "source": [
        "13.  Write a Python program to find the sum of all even numbers between 1 and 50\n"
      ],
      "metadata": {
        "id": "8cpmf9etYGsY"
      }
    },
    {
      "cell_type": "code",
      "source": [
        "sum_even = 0\n",
        "\n",
        "for num in range(2, 51, 2):\n",
        "    sum_even += num\n",
        "print(\"The sum of all even numbers between 1 and 50 is:\", sum_even)\n"
      ],
      "metadata": {
        "id": "n_nDWeJ0YMFc"
      },
      "execution_count": null,
      "outputs": []
    },
    {
      "cell_type": "markdown",
      "source": [
        "14.  Write a program to reverse a string using a while loop\n"
      ],
      "metadata": {
        "id": "0xhadq44YZzk"
      }
    },
    {
      "cell_type": "code",
      "source": [
        "text = input(\"Enter a string: \")\n",
        "\n",
        "reversed_text = \"\"\n",
        "index = len(text) - 1\n",
        "\n",
        "while index >= 0:\n",
        "    reversed_text += text[index]\n",
        "    index -= 1\n",
        "\n",
        "print(\"Reversed string:\", reversed_text)\n"
      ],
      "metadata": {
        "id": "jRrpOGtDYeHn"
      },
      "execution_count": null,
      "outputs": []
    },
    {
      "cell_type": "markdown",
      "source": [
        "15.  Write a Python program to calculate the factorial of a number provided by the user using a while loop.\n"
      ],
      "metadata": {
        "id": "gX79USRLYwql"
      }
    },
    {
      "cell_type": "code",
      "source": [
        "num = int(input(\"Enter a number: \"))\n",
        "\n",
        "factorial = 1\n",
        "i = num\n",
        "\n",
        "while i > 0:\n",
        "    factorial *= i\n",
        "    i -= 1\n",
        "\n",
        "print(f\"The factorial of {num} is: {factorial}\")\n"
      ],
      "metadata": {
        "id": "NNRi8IsOYycW"
      },
      "execution_count": null,
      "outputs": []
    }
  ]
}